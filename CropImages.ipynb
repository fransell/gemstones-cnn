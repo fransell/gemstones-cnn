{
 "cells": [
  {
   "cell_type": "code",
   "execution_count": null,
   "id": "217457a9",
   "metadata": {},
   "outputs": [],
   "source": [
    "import os\n",
    "import pathlib\n",
    "import numpy as np\n",
    "\n",
    "import PIL\n",
    "\n",
    "import cv2"
   ]
  },
  {
   "cell_type": "code",
   "execution_count": null,
   "id": "b4c3e7ab",
   "metadata": {},
   "outputs": [],
   "source": [
    "# Apri il dataset\n",
    "dataset_url = 'dataset/'\n",
    "data_dir = pathlib.Path(dataset_url)\n",
    "data_classes_dir = os.listdir(data_dir)\n",
    "\n",
    "# Itera, converti per ogni cartella \n",
    "for subdir, dirs, files in os.walk(data_dir):\n",
    "    for file in files:\n",
    "        try:\n",
    "            file_path = os.path.join(subdir, file)\n",
    "\n",
    "            input_image = cv2.imread(file_path, cv2.IMREAD_UNCHANGED)\n",
    "\n",
    "            height = input_image.shape[0]\n",
    "            width = input_image.shape[1]\n",
    "\n",
    "            # Controlla che immagine sia in bianco e nero (se shape è 2) o no.\n",
    "            if len(input_image.shape) == 2:\n",
    "                gray_input_image = input_image.copy()\n",
    "            else:\n",
    "                # Conversione da BGR a bianco e nero\n",
    "                gray_input_image = cv2.cvtColor(input_image, cv2.COLOR_BGR2GRAY)\n",
    "\n",
    "            # Rilevazione soglia\n",
    "            upper_threshold, thresh_input_image = cv2.threshold(\n",
    "                gray_input_image, thresh=0, maxval=255, type=cv2.THRESH_BINARY + cv2.THRESH_OTSU\n",
    "            )\n",
    "            # Calcolo soglia inferiore\n",
    "            lower_threshold = 0.5 * upper_threshold\n",
    "\n",
    "            # Algoritmo rilevazione dei bordi di Canny\n",
    "            canny = cv2.Canny(input_image, lower_threshold, upper_threshold)\n",
    "            # Punti diversi da zero\n",
    "            pts = np.argwhere(canny > 0)\n",
    "\n",
    "            # Min e max del riquadro\n",
    "            y1, x1 = pts.min(axis=0)\n",
    "            y2, x2 = pts.max(axis=0)\n",
    "\n",
    "            # Ritaglio ROI\n",
    "            output_image = input_image[y1:y2, x1:x2]\n",
    "\n",
    "\n",
    "            # Save image\n",
    "            cv2.imwrite(file_path, output_image)\n",
    "            print(\"Modificato file: \" + file_path)\n",
    "        except:\n",
    "            print(\"Errore con il file: \" + file) \n",
    "        "
   ]
  }
 ],
 "metadata": {
  "kernelspec": {
   "display_name": "Python 3 (ipykernel)",
   "language": "python",
   "name": "python3"
  },
  "language_info": {
   "codemirror_mode": {
    "name": "ipython",
    "version": 3
   },
   "file_extension": ".py",
   "mimetype": "text/x-python",
   "name": "python",
   "nbconvert_exporter": "python",
   "pygments_lexer": "ipython3",
   "version": "3.10.12"
  }
 },
 "nbformat": 4,
 "nbformat_minor": 5
}
