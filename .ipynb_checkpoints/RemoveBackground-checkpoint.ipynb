{
 "cells": [
  {
   "cell_type": "code",
   "execution_count": null,
   "id": "217457a9",
   "metadata": {},
   "outputs": [],
   "source": [
    "import os\n",
    "import pathlib\n",
    "\n",
    "import PIL\n",
    "from PIL import Image\n",
    "\n",
    "import cv2\n",
    "import rembg\n",
    "from rembg import remove"
   ]
  },
  {
   "cell_type": "code",
   "execution_count": null,
   "id": "c5f4328d",
   "metadata": {
    "scrolled": true
   },
   "outputs": [],
   "source": [
    "# Apri il dataset\n",
    "dataset_url = 'dataset/'\n",
    "data_dir = pathlib.Path(dataset_url)\n",
    "data_classes_dir = os.listdir(data_dir)\n",
    "\n",
    "# Itera, converti per ogni cartella \n",
    "for subdir, dirs, files in os.walk(data_dir):\n",
    "    for file in files:\n",
    "        try:\n",
    "            file_path = os.path.join(subdir, file)\n",
    "            # Load the input image\n",
    "            input_image = Image.open(file_path)\n",
    "            # Apply background removal using rembg\n",
    "            output_image = rembg.remove(input_image, bgcolor=(255, 255, 255, 255))\n",
    "            output_image_jpg = output_image.convert(\"RGB\")\n",
    "            output_path = os.path.join(subdir, os.path.basename(input_image.filename))\n",
    "            # Save the output image\n",
    "            output_image_jpg.save(input_image.filename, 'JPEG')\n",
    "            print(\"Rimosso sfondo al file: \" + file)\n",
    "        except:\n",
    "            print(\"Errore con il file: \" + file) \n",
    "        "
   ]
  }
 ],
 "metadata": {
  "kernelspec": {
   "display_name": "Python 3 (ipykernel)",
   "language": "python",
   "name": "python3"
  },
  "language_info": {
   "codemirror_mode": {
    "name": "ipython",
    "version": 3
   },
   "file_extension": ".py",
   "mimetype": "text/x-python",
   "name": "python",
   "nbconvert_exporter": "python",
   "pygments_lexer": "ipython3",
   "version": "3.10.12"
  }
 },
 "nbformat": 4,
 "nbformat_minor": 5
}
